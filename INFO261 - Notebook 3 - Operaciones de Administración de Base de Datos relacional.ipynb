{
 "cells": [
  {
   "cell_type": "markdown",
   "metadata": {},
   "source": [
    "# Notebook 3: Operaciones de Administración de Base de Datos relacional"
   ]
  },
  {
   "cell_type": "markdown",
   "metadata": {},
   "source": [
    "En el ciclo de vida de una base de datos relacional, a menudo el administrador de la BD tiene que realizar ciertas operaciones de mantención. Mencionamos en particular:\n",
    "\n",
    "1- Realizar una copia de seguridad de los datos\n",
    "\n",
    "2- Crear usuarios y definir permisos de acceso a la BD\n",
    "\n",
    "3- Modificar la estructura de la BD\n",
    "\n",
    "4- Agregar restricciones o reglas de integridad sobre la estructura de los datos"
   ]
  },
  {
   "cell_type": "markdown",
   "metadata": {},
   "source": [
    "## Ejercicio 1: Crear una BD de prueba básica"
   ]
  },
  {
   "cell_type": "markdown",
   "metadata": {},
   "source": [
    "Para realizar los ejercicios siguientes, primero vamos a crear una BD de prueba básica, llamada \"Valdivia\". Esta base de datos está constituida por 3 tablas:\n",
    "\n",
    "- PERSONA(pk_RUT, Nombre, Edad)   (ej.: \"1, Juan, 20\")\n",
    "\n",
    "- LUGAR_DE_INTERES(pk_Lugar, Descripcion, Categoria, Latitud, Longitud)  (ej.; \"1, Mercado Fluvial, Turismo, -39.81, -73.24\")\n",
    "\n",
    "- DESPLAZARSE(#pk_RUT, fecha, Latitud, Longitud)  (ej. \"1, 30/09/2018 12:00:00, -39, -70\")"
   ]
  },
  {
   "cell_type": "markdown",
   "metadata": {},
   "source": [
    "1) Implementar la estructura de esta base de datos en MySQL indicando las claves primarias y foraneas y los tipos de datos\n",
    "\n",
    "2) Insertar al menos 5 filas en cada tabla\n",
    "\n",
    "3) ¿A qué tipo de aplicación podría servir esta base de datos?"
   ]
  },
  {
   "cell_type": "code",
   "execution_count": 15,
   "metadata": {},
   "outputs": [],
   "source": [
    "#1)\n",
    "\n",
    "import mysql.connector\n",
    "import pandas as pd\n",
    "from IPython.display import display,HTML\n",
    "\n",
    "#reemplazar 'root' por el password del usuario administrador de MySQL\n",
    "db_connection = mysql.connector.connect(user=\"root\",host=\"localhost\",password=\"moyarzun94\")\n",
    "cursor = db_connection.cursor()\n",
    "cursor.execute(\"SET sql_mode ='' \")\n",
    "cursor.execute(\"Use valdivia\")\n",
    "\n",
    "cursor.execute('CREATE TABLE persona(id_rut INT NOT NULL,nombre VARCHAR(50),edad INT,PRIMARY KEY(id_rut))');\n",
    "cursor.execute('CREATE TABLE lugar_de_interes(id_lugar INT NOT NULL AUTO_INCREMENT,descripcion VARCHAR(100),categoria VARCHAR(50),latitud FLOAT,longitud FLOAT,PRIMARY KEY(id_lugar))');\n",
    "cursor.execute('CREATE TABLE desplazarse(id_rut INT NOT NULL,fecha DATE ,latitud FLOAT,longitud FLOAT,FOREIGN KEY fk_persona(id_rut) REFERENCES  persona(id_rut),PRIMARY KEY(id_rut,fecha))');\n",
    "\n"
   ]
  },
  {
   "cell_type": "code",
   "execution_count": null,
   "metadata": {},
   "outputs": [],
   "source": [
    "#2)\n",
    "\n",
    "INSERT INTO persona(id_rut,nombre,edad)VALUES (188706630,\"Mathias\",24);\n",
    "INSERT INTO persona(id_rut,nombre,edad)VALUES (194634324,\"Rodrigo\",20);\n",
    "INSERT INTO persona(id_rut,nombre,edad)VALUES (193424242,\"Benja\",20);\n",
    "INSERT INTO persona(id_rut,nombre,edad)VALUES (191234804,\"Paula\",20);\n",
    "INSERT INTO persona(id_rut,nombre,edad)VALUES (172492342,\"Eduardo\",20);\n",
    "\n",
    "INSERT INTO lugar_de_interes(descripcion,categoria,latitud,longitud) \n",
    "VALUES(\"Mercado fluvial\",\"turismo\",-30.342,-76.40);\n",
    "\n",
    "INSERT INTO lugar_de_interes(descripcion,categoria,latitud,longitud) \n",
    "VALUES(\"Casino\",\"entretencion\",-31.342,-70.55);\n",
    "\n",
    "INSERT INTO lugar_de_interes(descripcion,categoria,latitud,longitud) \n",
    "VALUES(\"Plaza\",\"turismo\",-36.20,-76.4);\n",
    "\n",
    "INSERT INTO lugar_de_interes(descripcion,categoria,latitud,longitud) \n",
    "VALUES(\"Teja\",\"turismo\",-37.81,-72.55);\n",
    "\n",
    "INSERT INTO lugar_de_interes(descripcion,categoria,latitud,longitud) \n",
    "VALUES(\"U\",\"turismo\",-42.81,-71.40);\n",
    "\n",
    "INSERT INTO desplazarse(id_RUT,fecha,latitud,longitud) \n",
    "VALUES(172492342,\"2018-02-25 14:00:00\",-30.342,-76.40);\n",
    "\n",
    "INSERT INTO desplazarse(id_RUT,fecha,latitud,longitud) \n",
    "VALUES(188706630,\"2018-03-26 09:00:00\",-42.81,-71.40);\n",
    "\n",
    "INSERT INTO desplazarse(id_RUT,fecha,latitud,longitud) \n",
    "VALUES(188706630,\"2018-04-27 14:00:00\",-36.20,-76.4);\n",
    "\n",
    "INSERT INTO desplazarse(id_RUT,fecha,latitud,longitud) \n",
    "VALUES(193424242,\"2018-12-25 13:00:00\",-36.20,-76.4);\n",
    "\n",
    "INSERT INTO desplazarse(id_RUT,fecha,latitud,longitud) \n",
    "VALUES(191234804,\"2018-12-25 12:00:00\",-42.81,-71.40);"
   ]
  },
  {
   "cell_type": "code",
   "execution_count": null,
   "metadata": {},
   "outputs": [],
   "source": [
    "#3)\n",
    "# Esta base de datos podrá servir, para una aplicación de turismo,\n",
    "# donde los usuarios se registren, y puedan ver los lugares turísticos más cercanos."
   ]
  },
  {
   "cell_type": "markdown",
   "metadata": {},
   "source": [
    "## Ejercicio 2: Realizar una copia de seguridad de una BD y exportar datos"
   ]
  },
  {
   "cell_type": "markdown",
   "metadata": {},
   "source": [
    "<a href=\"https://dev.mysql.com/doc/refman/8.0/en/backup-and-recovery.html\"> Backup and Recovery in MySQL</a>\n",
    "\n",
    "1) ¿Por qué hacer copias de seguridad de su base de datos?\n",
    "\n",
    "2) Utilizar el comando <code>Mysqldump</code> para realizar una copia de su base de datos. ¿Cuál es el <i>output</i> de este comando?\n",
    "\n",
    "3) En algunos casos, queremos simplemente exportar datos para poder utilizarlos en otros contextos. ¿En qué consiste el formato de datos CSV? ¿Cómo exportar datos al formato CSV desde MySQL? (ver: <a href=\"http://www.mysqltutorial.org/mysql-export-table-to-csv/\">Tutorial</a>)"
   ]
  },
  {
   "cell_type": "code",
   "execution_count": null,
   "metadata": {},
   "outputs": [],
   "source": [
    "#1) Es importante hacer copias de seguridad, ya que esta manera puedes recuperar tu información de la base datos,\n",
    "#   en caso que surgan problemas, por ej , que el sistema se caiga, problemas de hardware, o haber borrado informacion\n",
    "#   de la base de datos por error.\n",
    "\n",
    "#2)  mysqldump\n",
    "Usage: mysqldump [OPTIONS] database [tables]\n",
    "OR     mysqldump [OPTIONS] --databases [OPTIONS] DB1 [DB2 DB3...]\n",
    "OR     mysqldump [OPTIONS] --all-databases [OPTIONS]\n",
    "For more options, use mysqldump --help\n",
    "\n",
    "#3) \n",
    "# Csv es un formativo simple, para representar datos en forma de tabla en  que las columnas se separan por comas\n",
    "#  y las filas por saltos de línea. \n",
    "\n",
    "SELECT * FROM persona INTO OUTFILE '/tmp/persona.csv'\n",
    "FIELDS TERMINATED BY ',' ENCLOSED BY '\"' LINES TERMINATED BY '\\n';\n"
   ]
  },
  {
   "cell_type": "markdown",
   "metadata": {},
   "source": [
    "## Ejercicio 3: Gestionar usuarios y privilegios de lectura y escritura\n",
    "\n",
    "En la configuración por defecto de MySQL, existe un sólo usuario, llamado 'root', lo cual tiene todos los derechos. En término de seguridad es muy poco recomendable trabajar siempre con el usuario 'root' (en particular cuando se deja los passwords en el código o un archivo de parametros). \n",
    "\n",
    "1) ¿Cuáles son los tipos de privilegios en una base de datos relacional?\n",
    "\n",
    "2) Crear un nuevo usuario y darle todos los privilegios sobre la base de datos 'Valdivia'\n",
    "\n",
    "3) Crear un nuevo usuario, lo cual tendrá solamente acceso de lectura sobre la tabla Lugar_de_interes y Desplazarse"
   ]
  },
  {
   "cell_type": "code",
   "execution_count": 3,
   "metadata": {},
   "outputs": [],
   "source": [
    "\n",
    "1)\n",
    "Conectarse a Base datos\n",
    "Realizar query a la base de datos\n",
    "Crear, modificar y borrar tablas de la base de datos\n",
    "Crear usuarios y darles permisos."
   ]
  },
  {
   "cell_type": "code",
   "execution_count": null,
   "metadata": {},
   "outputs": [],
   "source": [
    "#2)\n",
    "CREATE USER 'user1'@'localhost' IDENTIFIED BY 'password';\n",
    "GRANT ALL PRIVILEGES ON valdivia.* TO 'user1'@'localhost';\n",
    "FLUSH PRIVILEGES;"
   ]
  },
  {
   "cell_type": "code",
   "execution_count": null,
   "metadata": {},
   "outputs": [],
   "source": [
    "\n",
    "#3)\n",
    "CREATE USER 'user2'@'localhost' IDENTIFIED BY 'password';\n",
    "GRANT SELECT ON valdivia.lugar_de_interes TO 'user2'@'localhost';\n",
    "GRANT SELECT ON valdivia.desplazarse TO 'user2'@'localhost';"
   ]
  },
  {
   "cell_type": "markdown",
   "metadata": {},
   "source": [
    "## Ejercicio 4: Modificar la estructura de una Base de Datos\n",
    "\n",
    "Supongamos que queremos modificar la estructura de la base de datos 'Valdivia'. \n",
    "\n",
    "1) Modificar la BD (sin borrarla) para agregar un campo 'nivel de estudio' en la tabla 'Persona'.\n",
    "\n",
    "2) Modificar la BD (sin borrarla) para dejar la posibilidad de tener varias categorías para describir un lugar de interés (implica crear una tabla adicional)\n",
    "\n",
    "3) Agregar una restricción para que las columnas \"Latitud\" y \"Longitud\" nuncan sean NULL"
   ]
  },
  {
   "cell_type": "code",
   "execution_count": null,
   "metadata": {},
   "outputs": [],
   "source": [
    "#1)ALTER TABLE persona ADD COLUMN nivel_de_estudio VARCHAR(20);"
   ]
  },
  {
   "cell_type": "code",
   "execution_count": null,
   "metadata": {},
   "outputs": [],
   "source": [
    "#2)\n",
    "\n",
    "CREATE TABLE categoria(categoria_id INT NOT NULL AUTO_INCREMENT,nombre VARCHAR(50),PRIMARY KEY(categoria_id));\n",
    "ALTER TABLE lugar_de_interes DROP COLUMN categoria;\n",
    "ALTER TABLE lugar_de_interes ADD COLUMN categoria VARCHAR(20);\n",
    "ALTER TABLE lugar_de_interes ADD FOREIGN KEY fk_categoria(categoria) REFERENCES categoria(pk_categoria);\n",
    " "
   ]
  },
  {
   "cell_type": "code",
   "execution_count": null,
   "metadata": {},
   "outputs": [],
   "source": [
    "#3)\n",
    "\n",
    "ALTER TABLE desplazarse MODIFY latitud FLOAT NOT NULL;\n",
    "ALTER TABLE desplazarse MODIFY longitud FLOAT NOT NULL;\n",
    "\n",
    "ALTER TABLE lugar_de_interes MODIFY latitud FLOAT NOT NULL;\n",
    "ALTER TABLE lugar_de_interes MODIFY longitud FLOAT NOT NULL;\n",
    "\n",
    "\n",
    "\n"
   ]
  },
  {
   "cell_type": "markdown",
   "metadata": {},
   "source": [
    "## Ejercicio 5 (opcional): Innovación para Valdivia - Smart City\n",
    "\n",
    "1) Revisar el concurso \"Desafio Smart City\": https://www.innoving.cl/smartcity\n",
    "\n",
    "2) Considerando que la empresa Telefonica del Sur podría darle acceso a ciertos datos telefónicos de la Ciudad, imaginar un escenario de innovación basado sobre una base de datos similar a aquella que creamos."
   ]
  },
  {
   "cell_type": "code",
   "execution_count": null,
   "metadata": {},
   "outputs": [],
   "source": []
  }
 ],
 "metadata": {
  "kernelspec": {
   "display_name": "Python 3",
   "language": "python",
   "name": "python3"
  },
  "language_info": {
   "codemirror_mode": {
    "name": "ipython",
    "version": 3
   },
   "file_extension": ".py",
   "mimetype": "text/x-python",
   "name": "python",
   "nbconvert_exporter": "python",
   "pygments_lexer": "ipython3",
   "version": "3.7.1"
  }
 },
 "nbformat": 4,
 "nbformat_minor": 2
}
